{
 "cells": [
  {
   "cell_type": "markdown",
   "metadata": {},
   "source": [
    "# Genentech Cervical Cancer Screening Project"
   ]
  },
  {
   "cell_type": "markdown",
   "metadata": {},
   "source": [
    "This IPython notebook has been the foundation of most of the modelling work done throughout the competition. \n",
    "\n",
    "This will **NOT** reproduce the winning solution, which is a far more complex ensemble of models, some of which run for days, but will provide an example of a model that will score .9648 in cross validation and ~.9629 on the Private leaderboard.\n",
    "\n",
    "#### Environment\n",
    "\n",
    "- 128GB RAM\n",
    "- Python Anaconda\n",
    "- XGB\n",
    "\n",
    "\n",
    "#### Generate the data (final version v9)\n",
    "\n",
    "v9 (final version) of the data is generated using **feature engineering SQL.sql** in a Hadoop environment. This will generate only the dense portion of the dataset (~400 features) in a .csv format that will be read in memory through Pandas.\n",
    "\n",
    "Sparse features need to be one-hot-encoded using scikit learn CountVectorizer with the following setting:\n",
    "\n",
    "tf\\_vectorizer = CountVectorizer(min\\_df=50, max_df=0.9,stop_words='english',token\\_pattern=u'[0-9A-Za-z\\_]{1,}',ngram\\_range=(1,1))\n",
    "\n",
    "There is a total of 42 files (21 for train, 21 for test) that need to be encoded. All of these tables will be read into memory using scikit learn joblib."
   ]
  },
  {
   "cell_type": "code",
   "execution_count": 1,
   "metadata": {
    "collapsed": false
   },
   "outputs": [],
   "source": [
    "import glob\n",
    "import os\n",
    "import sys\n",
    "from sklearn.cross_validation import StratifiedKFold, StratifiedShuffleSplit\n",
    "from sklearn.metrics import roc_auc_score\n",
    "from sklearn import metrics\n",
    "from sklearn.metrics import classification_report\n",
    "from sklearn import ensemble, linear_model\n",
    "import pylab as pyplot\n",
    "import numpy as np\n",
    "import pandas as pd\n",
    "from sklearn import preprocessing\n",
    "from sklearn.externals import joblib\n",
    "from scipy.sparse import hstack, csr_matrix\n",
    "import warnings\n",
    "warnings.filterwarnings(\"ignore\")\n",
    "import xgboost as xgb\n",
    "%matplotlib inline\n",
    "os.chdir('/data')"
   ]
  },
  {
   "cell_type": "code",
   "execution_count": 2,
   "metadata": {
    "collapsed": true
   },
   "outputs": [],
   "source": [
    "#-------------------------------------------------------------------------\n",
    "# SETTING\n",
    "#-------------------------------------------------------------------------\n",
    "\n",
    "SEED = 42\n",
    "TEST = True #use True if you want to actually make a submission, False if you only need to do cross validation"
   ]
  },
  {
   "cell_type": "code",
   "execution_count": 3,
   "metadata": {
    "collapsed": false
   },
   "outputs": [],
   "source": [
    "#-------------------------------------------------------------------------\n",
    "# DEFINITIONS\n",
    "#-------------------------------------------------------------------------\n",
    "\n",
    "def cvloopxgbm(X, y, n=1, test_size=0.2):\n",
    "    \"\"\"\n",
    "    Cross validation loop for validation purposes\n",
    "    \n",
    "    \"\"\"\n",
    "    M = []\n",
    "    k=1     \n",
    "    \n",
    "    kf = StratifiedShuffleSplit(y, n_iter=n, \n",
    "                                test_size=test_size, \n",
    "                                random_state=SEED)\n",
    "\n",
    "    for train_index, test_index in kf:\n",
    "        preds = np.zeros(len(test_index))\n",
    "        xg_train = xgb.DMatrix(X[train_index], label=y[train_index])\n",
    "        xg_test = xgb.DMatrix(X[test_index], label=y[test_index])\n",
    "        watchlist = [(xg_train,'train'), (xg_test, 'test')]\n",
    "    \n",
    "        bst = xgb.train(plst, xg_train, num_round, watchlist, early_stopping_rounds=15 )\n",
    "        pr = bst.predict(xg_test)\n",
    "        print \"\"\n",
    "        m = roc_auc_score(y[test_index],pr)\n",
    "        print \"Iteration %i of %i - ROC: %.4f\" %(k,n,m)\n",
    "        \n",
    "        M.append(m)\n",
    "        k += 1\n",
    "    \n",
    "    M = np.array(M)\n",
    "    \n",
    "    print \"Final ROC: Avg = %.4f, std = %.4f\" % (M.mean(), M.std()) \n",
    "    return bst.best_iteration\n",
    "      "
   ]
  },
  {
   "cell_type": "markdown",
   "metadata": {},
   "source": [
    "## Read Data From CSV and manipulate"
   ]
  },
  {
   "cell_type": "code",
   "execution_count": 4,
   "metadata": {
    "collapsed": false
   },
   "outputs": [],
   "source": [
    "train = pd.read_csv('train_v9.csv')\n",
    "train.columns = [i.split('.')[1] for i in train.columns.values]"
   ]
  },
  {
   "cell_type": "code",
   "execution_count": 5,
   "metadata": {
    "collapsed": false
   },
   "outputs": [],
   "source": [
    "if TEST:\n",
    "    test = pd.read_csv('test_v9.csv')\n",
    "    test.columns = [i.split('.')[1] for i in test.columns.values]"
   ]
  },
  {
   "cell_type": "code",
   "execution_count": 6,
   "metadata": {
    "collapsed": false
   },
   "outputs": [
    {
     "data": {
      "text/plain": [
       "(1157817, 716)"
      ]
     },
     "execution_count": 6,
     "metadata": {},
     "output_type": "execute_result"
    }
   ],
   "source": [
    "train.shape"
   ]
  },
  {
   "cell_type": "code",
   "execution_count": 7,
   "metadata": {
    "collapsed": false
   },
   "outputs": [
    {
     "name": "stdout",
     "output_type": "stream",
     "text": [
      "(1701813, 715)\n"
     ]
    }
   ],
   "source": [
    "if TEST:\n",
    "    print test.shape"
   ]
  },
  {
   "cell_type": "code",
   "execution_count": 8,
   "metadata": {
    "collapsed": false
   },
   "outputs": [
    {
     "data": {
      "text/plain": [
       "<matplotlib.axes._subplots.AxesSubplot at 0x7f2ce38a7f90>"
      ]
     },
     "execution_count": 8,
     "metadata": {},
     "output_type": "execute_result"
    },
    {
     "data": {
      "image/png": "[encoded data removed]",
      "text/plain": [
       "<matplotlib.figure.Figure at 0x7f2ce38b2550>"
      ]
     },
     "metadata": {},
     "output_type": "display_data"
    }
   ],
   "source": [
    "train.is_screener.value_counts(normalize=True).plot(kind=\"bar\")"
   ]
  },
  {
   "cell_type": "code",
   "execution_count": 9,
   "metadata": {
    "collapsed": false
   },
   "outputs": [],
   "source": [
    "#fill nulls with 0\n",
    "train.fillna(0,inplace=True)"
   ]
  },
  {
   "cell_type": "code",
   "execution_count": 10,
   "metadata": {
    "collapsed": false
   },
   "outputs": [],
   "source": [
    "if TEST:\n",
    "    test.fillna(0,inplace=True)"
   ]
  },
  {
   "cell_type": "code",
   "execution_count": 11,
   "metadata": {
    "collapsed": false
   },
   "outputs": [],
   "source": [
    "# set up test submission IDs\n",
    "if TEST:\n",
    "    pred_df = test[['patient_id']]\n",
    "    pred_df['prediction'] = np.zeros(test.shape[0])"
   ]
  },
  {
   "cell_type": "code",
   "execution_count": 12,
   "metadata": {
    "collapsed": false
   },
   "outputs": [],
   "source": [
    "y = train.is_screener.values"
   ]
  },
  {
   "cell_type": "code",
   "execution_count": 13,
   "metadata": {
    "collapsed": false
   },
   "outputs": [
    {
     "data": {
      "text/plain": [
       "0.55778503856827111"
      ]
     },
     "execution_count": 13,
     "metadata": {},
     "output_type": "execute_result"
    }
   ],
   "source": [
    "y.mean()"
   ]
  },
  {
   "cell_type": "code",
   "execution_count": 14,
   "metadata": {
    "collapsed": false
   },
   "outputs": [],
   "source": [
    "#cv ids\n",
    "cvpred_df = train[['patient_id']]\n",
    "cvpred_df['prediction'] = np.zeros(train.shape[0])"
   ]
  },
  {
   "cell_type": "code",
   "execution_count": 15,
   "metadata": {
    "collapsed": false
   },
   "outputs": [
    {
     "name": "stdout",
     "output_type": "stream",
     "text": [
      "['key_gj_feats_rx_head', 'key_gj_feats_spec', 'key_gj_feats_specialties', 'key_gj_feats_top_procs', 'key_gj_feats_top_procs_all', 'key_gj_feats_top_dx', 'key_gj_feats_top_dx_all', 'key_gj_feats_leak_det', 'key_gj_feats_leak_all', 'key_gj_feats_target', 'key_gj_feats_procdx_grouped', 'key_gj_feats_provs', 'key_gj_feats_combo_target', 'key_gj_feats_leak_across', 'key_gj_feats_mb_target', 'key_gj_feats_uber_agg_s50', 'key_gj_feats_leak_across_ct', 'key_gj_feats_trg_pos', 'key_gj_feats_leak_sd', 'key_gj_feats_leak_specproc', 'key_gj_feats_leakage_v2', 'key_gj_feats_leak_across2', 'key_gj_feats_leak_across_ct2', 'key_gj_feats_leak_specproc2', 'key_gj_feats_leak_across3', 'key_gj_feats_leak_across_ct3', 'key_gj_feats_leak_specproc3']\n",
      "['key_gj_feats_rx_head', 'key_gj_feats_spec', 'key_gj_feats_specialties', 'key_gj_feats_top_procs', 'key_gj_feats_top_procs_all', 'key_gj_feats_top_dx', 'key_gj_feats_top_dx_all', 'key_gj_feats_leak_det', 'key_gj_feats_leak_all', 'key_gj_feats_target', 'key_gj_feats_procdx_grouped', 'key_gj_feats_provs', 'key_gj_feats_combo_target', 'key_gj_feats_leak_across', 'key_gj_feats_mb_target', 'key_gj_feats_uber_agg_s50', 'key_gj_feats_leak_across_ct', 'key_gj_feats_trg_pos', 'key_gj_feats_leak_sd', 'key_gj_feats_leak_specproc', 'key_gj_feats_leakage_v2', 'key_gj_feats_leak_across2', 'key_gj_feats_leak_across_ct2', 'key_gj_feats_leak_specproc2', 'key_gj_feats_leak_across3', 'key_gj_feats_leak_across_ct3', 'key_gj_feats_leak_specproc3', 'patient_id', 'is_screener', 'patient_gender']\n"
     ]
    }
   ],
   "source": [
    "#remove extra patient ids generated by the Impala joining process\n",
    "cols = train.columns.values\n",
    "keys = [col for col in cols if 'key_' in col]\n",
    "ccs = [col for col in cols if 'ccs4' in col]\n",
    "print keys\n",
    "removeCols = keys + ['patient_id','is_screener','patient_gender']\n",
    "print removeCols"
   ]
  },
  {
   "cell_type": "code",
   "execution_count": 16,
   "metadata": {
    "collapsed": false
   },
   "outputs": [],
   "source": [
    "train.drop(removeCols,inplace=True,axis=1)\n",
    "cols = train.columns.values"
   ]
  },
  {
   "cell_type": "code",
   "execution_count": 17,
   "metadata": {
    "collapsed": false
   },
   "outputs": [
    {
     "name": "stdout",
     "output_type": "stream",
     "text": [
      "['key_gj_feats_rx_head', 'key_gj_feats_spec', 'key_gj_feats_specialties', 'key_gj_feats_top_procs', 'key_gj_feats_top_procs_all', 'key_gj_feats_top_dx', 'key_gj_feats_top_dx_all', 'key_gj_feats_leak_det', 'key_gj_feats_leak_all', 'key_gj_feats_target', 'key_gj_feats_procdx_grouped', 'key_gj_feats_provs', 'key_gj_feats_combo_target', 'key_gj_feats_leak_across', 'key_gj_feats_mb_target', 'key_gj_feats_uber_agg_s50', 'key_gj_feats_leak_across_ct', 'key_gj_feats_trg_pos', 'key_gj_feats_leak_sd', 'key_gj_feats_leak_specproc', 'key_gj_feats_leakage_v2', 'key_gj_feats_leak_across2', 'key_gj_feats_leak_across_ct2', 'key_gj_feats_leak_specproc2', 'key_gj_feats_leak_across3', 'key_gj_feats_leak_across_ct3', 'key_gj_feats_leak_specproc3']\n",
      "['key_gj_feats_rx_head', 'key_gj_feats_spec', 'key_gj_feats_specialties', 'key_gj_feats_top_procs', 'key_gj_feats_top_procs_all', 'key_gj_feats_top_dx', 'key_gj_feats_top_dx_all', 'key_gj_feats_leak_det', 'key_gj_feats_leak_all', 'key_gj_feats_target', 'key_gj_feats_procdx_grouped', 'key_gj_feats_provs', 'key_gj_feats_combo_target', 'key_gj_feats_leak_across', 'key_gj_feats_mb_target', 'key_gj_feats_uber_agg_s50', 'key_gj_feats_leak_across_ct', 'key_gj_feats_trg_pos', 'key_gj_feats_leak_sd', 'key_gj_feats_leak_specproc', 'key_gj_feats_leakage_v2', 'key_gj_feats_leak_across2', 'key_gj_feats_leak_across_ct2', 'key_gj_feats_leak_specproc2', 'key_gj_feats_leak_across3', 'key_gj_feats_leak_across_ct3', 'key_gj_feats_leak_specproc3', 'patient_id', 'patient_gender']\n"
     ]
    }
   ],
   "source": [
    "if TEST:\n",
    "    cols = test.columns.values\n",
    "    keys = [col for col in cols if 'key_' in col]\n",
    "    print keys\n",
    "    removeCols = keys + ['patient_id','patient_gender']\n",
    "    print removeCols"
   ]
  },
  {
   "cell_type": "code",
   "execution_count": 18,
   "metadata": {
    "collapsed": false
   },
   "outputs": [],
   "source": [
    "if TEST:\n",
    "    test.drop(removeCols,inplace=True,axis=1)\n",
    "    cols = test.columns.values"
   ]
  },
  {
   "cell_type": "code",
   "execution_count": 19,
   "metadata": {
    "collapsed": false
   },
   "outputs": [
    {
     "name": "stdout",
     "output_type": "stream",
     "text": [
      "(1157817, 686)\n",
      "(1701813, 686)\n"
     ]
    }
   ],
   "source": [
    "print train.shape\n",
    "if TEST:\n",
    "    print test.shape"
   ]
  },
  {
   "cell_type": "code",
   "execution_count": 20,
   "metadata": {
    "collapsed": false
   },
   "outputs": [
    {
     "name": "stdout",
     "output_type": "stream",
     "text": [
      "['rx_clm_tot_count', 'rx_dos_tot_sum', 'rx_clm_count_paytypecommercial', 'rx_clm_count_paytypemedicare', 'rx_clm_count_paytypemanagedmedicaid', 'rx_clm_count_paytypemedicaid', 'rx_clm_count_paytypecash', 'rx_clm_count_paytypeassistprg', 'rx_dos_sum_paytypecommercial', 'rx_dos_sum_paytypemedicare', 'rx_dos_sum_paytypemanagedmedicaid', 'rx_dos_sum_paytypemedicaid', 'rx_dos_sum_paytypecash', 'rx_dos_sum_paytypeassistprg', 'rx_max_refills', 'rx_doc_count', 'spec_obgyn_clm_count', 'spec_pediatrics_dermatology', 'spec_endocrinology', 'spec_obstetrics', 'spec__internal_medicine', 'spec_internal_medicine_medical_genetics', 'spec_child_psychiatry', 'spec_nuclear_radiology', 'spec__family_practice', 'spec_unknown', 'spec_medical_toxicology__preventative_medicine_', 'spec_pediatric_endocrinology', 'spec_forensic_psychiatry', 'spec_urological_surgery']\n"
     ]
    }
   ],
   "source": [
    "#encode categorical variables\n",
    "colsCategorical = ['patient_age_group', 'patient_state', 'ethnicity',\n",
    "       'household_income', 'education_level']\n",
    "colsNumerical = [col for col in cols if col not in colsCategorical]\n",
    "print colsNumerical[:30]"
   ]
  },
  {
   "cell_type": "code",
   "execution_count": 21,
   "metadata": {
    "collapsed": false
   },
   "outputs": [],
   "source": [
    "#encode categorical to numerical\n",
    "le = preprocessing.LabelEncoder()"
   ]
  },
  {
   "cell_type": "code",
   "execution_count": 22,
   "metadata": {
    "collapsed": true
   },
   "outputs": [],
   "source": [
    "X = np.zeros((train.shape[0],len(cols)))\n",
    "if TEST:\n",
    "    Xte = np.zeros((test.shape[0],len(cols)))\n",
    "for k,i in enumerate(cols):\n",
    "    if i in colsCategorical:\n",
    "        X[:,k] = le.fit_transform(train[i])\n",
    "        if TEST:\n",
    "           Xte[:,k] = le.transform(test[i])\n",
    "    else:\n",
    "        X[:,k] = train[i]\n",
    "        if TEST:\n",
    "            Xte[:,k] = test[i]"
   ]
  },
  {
   "cell_type": "code",
   "execution_count": 23,
   "metadata": {
    "collapsed": false
   },
   "outputs": [
    {
     "data": {
      "text/plain": [
       "array([[ 12.        ,  34.        ,   2.        , ...,   0.        ,\n",
       "          0.        ,   0.        ],\n",
       "       [ 10.        ,   6.        ,   0.        , ...,   0.        ,\n",
       "          0.        ,   0.        ],\n",
       "       [ 13.        ,  10.        ,   0.        , ...,   0.46774194,\n",
       "          0.27678571,   0.35677899],\n",
       "       ..., \n",
       "       [  9.        ,   4.        ,   1.        , ...,   0.99226018,\n",
       "          0.3258427 ,   0.45788289],\n",
       "       [ 15.        ,   0.        ,   1.        , ...,   0.43303929,\n",
       "          0.30985915,   0.37812967],\n",
       "       [  0.        ,  40.        ,   0.        , ...,   0.        ,\n",
       "          0.        ,   0.        ]])"
      ]
     },
     "execution_count": 23,
     "metadata": {},
     "output_type": "execute_result"
    }
   ],
   "source": [
    "X"
   ]
  },
  {
   "cell_type": "code",
   "execution_count": 24,
   "metadata": {
    "collapsed": false
   },
   "outputs": [
    {
     "name": "stdout",
     "output_type": "stream",
     "text": [
      "(1157817, 686)\n",
      "(1701813, 686)\n"
     ]
    }
   ],
   "source": [
    "print X.shape\n",
    "if TEST:\n",
    "    print Xte.shape"
   ]
  },
  {
   "cell_type": "code",
   "execution_count": 25,
   "metadata": {
    "collapsed": true
   },
   "outputs": [],
   "source": [
    "#read all the sparse data"
   ]
  },
  {
   "cell_type": "code",
   "execution_count": 26,
   "metadata": {
    "collapsed": false
   },
   "outputs": [],
   "source": [
    "Xdx = joblib.load('dx_tr_sparse.pkl')\n",
    "Xproc = joblib.load('proc_tr_sparse.pkl')\n",
    "Xprov = joblib.load('prov_tr_sparse.pkl')\n",
    "Xcptdx = joblib.load('cptdx_tr_sparse.pkl')\n",
    "Xcptspec = joblib.load('cptspec_tr_sparse.pkl')\n",
    "Xdxspec = joblib.load('dxspec_tr_sparse.pkl')\n",
    "Xlkdx = joblib.load('lkdx_tr_sparse.pkl')\n",
    "Xlkproc = joblib.load('lkproc_tr_sparse.pkl')\n",
    "Xprocproc = joblib.load('procproc_tr_sparse.pkl')\n",
    "Xlkct = joblib.load('lkct_tr_sparse.pkl')\n",
    "Xprocpos = joblib.load('procpos_tr_sparse.pkl')\n",
    "Xdxpos = joblib.load('dxpos_tr_sparse.pkl')\n",
    "Xspecproc = joblib.load('specproc_tr_sparse.pkl')\n",
    "Xlkprocsd = joblib.load('lkprocsd_tr_sparse.pkl')\n",
    "Xlkproc2 = joblib.load('lkproc2_tr_sparse.pkl')\n",
    "Xlkct2 = joblib.load('lkct2_tr_sparse.pkl')\n",
    "Xprocpos2 = joblib.load('procpos2_tr_sparse.pkl')\n",
    "Xspecleak2 = joblib.load('specleak22_tr_sparse.pkl')\n",
    "Xlkproc3 = joblib.load('lkproc3_tr_sparse.pkl')\n",
    "Xlkct3 = joblib.load('lkct3_tr_sparse.pkl')\n",
    "Xspecleak3 = joblib.load('specleak33_tr_sparse.pkl')\n",
    "\n",
    "Xdx_te = joblib.load('dx_te_sparse.pkl')\n",
    "Xproc_te = joblib.load('proc_te_sparse.pkl')\n",
    "Xprov_te = joblib.load('prov_te_sparse.pkl')\n",
    "Xcptdx_te = joblib.load('cptdx_te_sparse.pkl')\n",
    "Xcptspec_te = joblib.load('cptspec_te_sparse.pkl')\n",
    "Xdxspec_te = joblib.load('dxspec_te_sparse.pkl')\n",
    "Xlkdx_te = joblib.load('lkdx_te_sparse.pkl')\n",
    "Xlkproc_te = joblib.load('lkproc_te_sparse.pkl')\n",
    "Xprocproc_te = joblib.load('procproc_te_sparse.pkl')\n",
    "Xlkct_te = joblib.load('lkct_te_sparse.pkl')\n",
    "Xprocpos_te = joblib.load('procpos_te_sparse.pkl')\n",
    "Xdxpos_te = joblib.load('dxpos_te_sparse.pkl')\n",
    "Xspecproc_te = joblib.load('specproc_te_sparse.pkl')\n",
    "Xlkprocsd_te = joblib.load('lkprocsd_te_sparse.pkl')\n",
    "Xlkproc2_te = joblib.load('lkproc2_te_sparse.pkl')\n",
    "Xlkct2_te = joblib.load('lkct2_te_sparse.pkl')\n",
    "Xprocpos2_te = joblib.load('procpos2_te_sparse.pkl')\n",
    "Xspecleak2_te = joblib.load('specleak22_te_sparse.pkl')\n",
    "Xlkproc3_te = joblib.load('lkproc3_te_sparse.pkl')\n",
    "Xlkct3_te = joblib.load('lkct3_te_sparse.pkl')\n",
    "Xspecleak3_te = joblib.load('specleak33_te_sparse.pkl')"
   ]
  },
  {
   "cell_type": "code",
   "execution_count": 27,
   "metadata": {
    "collapsed": true
   },
   "outputs": [],
   "source": [
    "XB = csr_matrix(hstack(( csr_matrix(X),Xdx,Xprov,Xprocpos,Xcptdx,Xcptspec,Xdxspec,\n",
    "                        Xlkdx,Xlkproc,Xprocproc,Xlkct,Xprocpos,Xdxpos,Xspecproc,\n",
    "                        Xlkprocsd,Xlkproc2,Xlkct2,Xprocpos2,Xspecleak2,\n",
    "                       Xlkproc3,Xlkct3,Xspecleak3)))"
   ]
  },
  {
   "cell_type": "code",
   "execution_count": 28,
   "metadata": {
    "collapsed": false,
    "scrolled": true
   },
   "outputs": [],
   "source": [
    "if TEST:\n",
    "    XB_te = csr_matrix(hstack(( csr_matrix(Xte),Xdx_te,Xprov_te,Xprocpos_te,Xcptdx_te,Xcptspec_te,\n",
    "                               Xdxspec_te,Xlkdx_te,Xlkproc_te,Xprocproc_te,Xlkct_te,Xprocpos_te,\n",
    "                               Xdxpos_te,Xspecproc_te,Xlkprocsd_te,\n",
    "                              Xlkproc2_te,Xlkct2_te,Xprocpos2_te,Xspecleak2_te,\n",
    "                              Xlkproc3_te,Xlkct3_te,Xspecleak3_te)))"
   ]
  },
  {
   "cell_type": "code",
   "execution_count": 29,
   "metadata": {
    "collapsed": false
   },
   "outputs": [
    {
     "data": {
      "text/plain": [
       "<1157817x98275 sparse matrix of type '<type 'numpy.float64'>'\n",
       "\twith 528580896 stored elements in Compressed Sparse Row format>"
      ]
     },
     "execution_count": 29,
     "metadata": {},
     "output_type": "execute_result"
    }
   ],
   "source": [
    "XB"
   ]
  },
  {
   "cell_type": "code",
   "execution_count": 30,
   "metadata": {
    "collapsed": false
   },
   "outputs": [
    {
     "data": {
      "text/plain": [
       "<1701813x98275 sparse matrix of type '<type 'numpy.float64'>'\n",
       "\twith 777094963 stored elements in Compressed Sparse Row format>"
      ]
     },
     "execution_count": 30,
     "metadata": {},
     "output_type": "execute_result"
    }
   ],
   "source": [
    "XB_te"
   ]
  },
  {
   "cell_type": "markdown",
   "metadata": {},
   "source": [
    "## Save to File"
   ]
  },
  {
   "cell_type": "code",
   "execution_count": null,
   "metadata": {
    "collapsed": true
   },
   "outputs": [],
   "source": []
  },
  {
   "cell_type": "markdown",
   "metadata": {},
   "source": [
    "## Cross Validation"
   ]
  },
  {
   "cell_type": "code",
   "execution_count": 32,
   "metadata": {
    "collapsed": false
   },
   "outputs": [],
   "source": [
    "param = {}    \n",
    "param['objective'] = 'binary:logistic'\n",
    "param['eta'] = 0.05\n",
    "param['max_depth'] = 15\n",
    "param['gamma'] = 5\n",
    "param['colsample_bytree'] =  0.7\n",
    "param['silent'] = 0\n",
    "param['nthread'] = 16\n",
    "param['min_child_weight']=3\n",
    "param['subsample']= 0.7\n",
    "plst = param.items()\n",
    "plst += [('eval_metric', 'auc')]\n",
    "num_round = 50 #replace this with 10000 if you're trying to achieve the full score (AUC: .9648)"
   ]
  },
  {
   "cell_type": "code",
   "execution_count": 33,
   "metadata": {
    "collapsed": false,
    "scrolled": true
   },
   "outputs": [
    {
     "name": "stderr",
     "output_type": "stream",
     "text": [
      "Will train until test error hasn't decreased in 15 rounds.\n",
      "[0]\ttrain-auc:0.956919\ttest-auc:0.950068\n",
      "[1]\ttrain-auc:0.960048\ttest-auc:0.953133\n",
      "[2]\ttrain-auc:0.961554\ttest-auc:0.954517\n",
      "[3]\ttrain-auc:0.962563\ttest-auc:0.955101\n",
      "[4]\ttrain-auc:0.963252\ttest-auc:0.955590\n",
      "[5]\ttrain-auc:0.963595\ttest-auc:0.955867\n",
      "[6]\ttrain-auc:0.964090\ttest-auc:0.956086\n",
      "[7]\ttrain-auc:0.964439\ttest-auc:0.956205\n",
      "[8]\ttrain-auc:0.964957\ttest-auc:0.956451\n",
      "[9]\ttrain-auc:0.965286\ttest-auc:0.956602\n",
      "[10]\ttrain-auc:0.965558\ttest-auc:0.956838\n",
      "[11]\ttrain-auc:0.965833\ttest-auc:0.956932\n",
      "[12]\ttrain-auc:0.966161\ttest-auc:0.957072\n",
      "[13]\ttrain-auc:0.966417\ttest-auc:0.957177\n",
      "[14]\ttrain-auc:0.966697\ttest-auc:0.957297\n",
      "[15]\ttrain-auc:0.966857\ttest-auc:0.957380\n",
      "[16]\ttrain-auc:0.967011\ttest-auc:0.957441\n",
      "[17]\ttrain-auc:0.967256\ttest-auc:0.957533\n",
      "[18]\ttrain-auc:0.967524\ttest-auc:0.957646\n",
      "[19]\ttrain-auc:0.967785\ttest-auc:0.957710\n",
      "[20]\ttrain-auc:0.968045\ttest-auc:0.957819\n",
      "[21]\ttrain-auc:0.968214\ttest-auc:0.957889\n",
      "[22]\ttrain-auc:0.968436\ttest-auc:0.957959\n",
      "[23]\ttrain-auc:0.968675\ttest-auc:0.958012\n",
      "[24]\ttrain-auc:0.968857\ttest-auc:0.958071\n",
      "[25]\ttrain-auc:0.969109\ttest-auc:0.958134\n",
      "[26]\ttrain-auc:0.969350\ttest-auc:0.958215\n",
      "[27]\ttrain-auc:0.969591\ttest-auc:0.958297\n",
      "[28]\ttrain-auc:0.969808\ttest-auc:0.958325\n",
      "[29]\ttrain-auc:0.969968\ttest-auc:0.958371\n",
      "[30]\ttrain-auc:0.970175\ttest-auc:0.958431\n",
      "[31]\ttrain-auc:0.970370\ttest-auc:0.958462\n",
      "[32]\ttrain-auc:0.970527\ttest-auc:0.958512\n",
      "[33]\ttrain-auc:0.970736\ttest-auc:0.958570\n",
      "[34]\ttrain-auc:0.970956\ttest-auc:0.958647\n",
      "[35]\ttrain-auc:0.971128\ttest-auc:0.958692\n",
      "[36]\ttrain-auc:0.971299\ttest-auc:0.958746\n",
      "[37]\ttrain-auc:0.971444\ttest-auc:0.958776\n",
      "[38]\ttrain-auc:0.971603\ttest-auc:0.958830\n",
      "[39]\ttrain-auc:0.971786\ttest-auc:0.958905\n",
      "[40]\ttrain-auc:0.971921\ttest-auc:0.958941\n",
      "[41]\ttrain-auc:0.972128\ttest-auc:0.959028\n",
      "[42]\ttrain-auc:0.972230\ttest-auc:0.959063\n",
      "[43]\ttrain-auc:0.972417\ttest-auc:0.959119\n",
      "[44]\ttrain-auc:0.972544\ttest-auc:0.959172\n",
      "[45]\ttrain-auc:0.972671\ttest-auc:0.959218\n",
      "[46]\ttrain-auc:0.972871\ttest-auc:0.959287\n",
      "[47]\ttrain-auc:0.973025\ttest-auc:0.959317\n",
      "[48]\ttrain-auc:0.973141\ttest-auc:0.959360\n"
     ]
    },
    {
     "name": "stdout",
     "output_type": "stream",
     "text": [
      "\n",
      "Iteration 1 of 1 - ROC: 0.9594\n",
      "Final ROC: Avg = 0.9594, std = 0.0000\n",
      "49\n"
     ]
    },
    {
     "name": "stderr",
     "output_type": "stream",
     "text": [
      "[49]\ttrain-auc:0.973308\ttest-auc:0.959410\n"
     ]
    }
   ],
   "source": [
    "cvNumRounds = cvloopxgbm(XB, y, n=1, test_size=0.2)\n",
    "print cvNumRounds"
   ]
  },
  {
   "cell_type": "markdown",
   "metadata": {},
   "source": [
    "## Train & Predict"
   ]
  },
  {
   "cell_type": "code",
   "execution_count": 34,
   "metadata": {
    "collapsed": false
   },
   "outputs": [],
   "source": [
    "xg_train = xgb.DMatrix(XB, label=y)\n",
    "xg_test = xgb.DMatrix(XB_te)\n",
    "watchlist = [(xg_train,'train')]"
   ]
  },
  {
   "cell_type": "code",
   "execution_count": 35,
   "metadata": {
    "collapsed": false
   },
   "outputs": [],
   "source": [
    "num_round = cvNumRounds"
   ]
  },
  {
   "cell_type": "code",
   "execution_count": 36,
   "metadata": {
    "collapsed": false,
    "scrolled": true
   },
   "outputs": [
    {
     "name": "stderr",
     "output_type": "stream",
     "text": [
      "[0]\ttrain-auc:0.956466\n",
      "[1]\ttrain-auc:0.959694\n",
      "[2]\ttrain-auc:0.961239\n",
      "[3]\ttrain-auc:0.961953\n",
      "[4]\ttrain-auc:0.962571\n",
      "[5]\ttrain-auc:0.962945\n",
      "[6]\ttrain-auc:0.963306\n",
      "[7]\ttrain-auc:0.963672\n",
      "[8]\ttrain-auc:0.963947\n",
      "[9]\ttrain-auc:0.964200\n",
      "[10]\ttrain-auc:0.964502\n",
      "[11]\ttrain-auc:0.964845\n",
      "[12]\ttrain-auc:0.965133\n",
      "[13]\ttrain-auc:0.965374\n",
      "[14]\ttrain-auc:0.965708\n",
      "[15]\ttrain-auc:0.965998\n",
      "[16]\ttrain-auc:0.966237\n",
      "[17]\ttrain-auc:0.966522\n",
      "[18]\ttrain-auc:0.966759\n",
      "[19]\ttrain-auc:0.966981\n",
      "[20]\ttrain-auc:0.967197\n",
      "[21]\ttrain-auc:0.967337\n",
      "[22]\ttrain-auc:0.967479\n",
      "[23]\ttrain-auc:0.967681\n",
      "[24]\ttrain-auc:0.967895\n",
      "[25]\ttrain-auc:0.968123\n",
      "[26]\ttrain-auc:0.968336\n",
      "[27]\ttrain-auc:0.968546\n",
      "[28]\ttrain-auc:0.968808\n",
      "[29]\ttrain-auc:0.969016\n",
      "[30]\ttrain-auc:0.969214\n",
      "[31]\ttrain-auc:0.969468\n",
      "[32]\ttrain-auc:0.969611\n",
      "[33]\ttrain-auc:0.969816\n",
      "[34]\ttrain-auc:0.970010\n",
      "[35]\ttrain-auc:0.970174\n",
      "[36]\ttrain-auc:0.970391\n",
      "[37]\ttrain-auc:0.970541\n",
      "[38]\ttrain-auc:0.970718\n",
      "[39]\ttrain-auc:0.970892\n",
      "[40]\ttrain-auc:0.971063\n",
      "[41]\ttrain-auc:0.971255\n",
      "[42]\ttrain-auc:0.971381\n",
      "[43]\ttrain-auc:0.971479\n",
      "[44]\ttrain-auc:0.971646\n",
      "[45]\ttrain-auc:0.971815\n",
      "[46]\ttrain-auc:0.971940\n",
      "[47]\ttrain-auc:0.972076\n",
      "[48]\ttrain-auc:0.972205\n"
     ]
    }
   ],
   "source": [
    "bst = xgb.train(plst, xg_train, num_round, watchlist )"
   ]
  },
  {
   "cell_type": "code",
   "execution_count": 38,
   "metadata": {
    "collapsed": false
   },
   "outputs": [],
   "source": [
    "pr = bst.predict(xg_test)"
   ]
  },
  {
   "cell_type": "code",
   "execution_count": 39,
   "metadata": {
    "collapsed": false
   },
   "outputs": [],
   "source": [
    "pred_df['prediction'] = pr"
   ]
  },
  {
   "cell_type": "code",
   "execution_count": 40,
   "metadata": {
    "collapsed": false
   },
   "outputs": [
    {
     "data": {
      "text/html": [
       "<div>\n",
       "<table border=\"1\" class=\"dataframe\">\n",
       "  <thead>\n",
       "    <tr style=\"text-align: right;\">\n",
       "      <th></th>\n",
       "      <th>patient_id</th>\n",
       "      <th>prediction</th>\n",
       "    </tr>\n",
       "  </thead>\n",
       "  <tbody>\n",
       "    <tr>\n",
       "      <th>0</th>\n",
       "      <td>100000005</td>\n",
       "      <td>0.112128</td>\n",
       "    </tr>\n",
       "    <tr>\n",
       "      <th>1</th>\n",
       "      <td>100000083</td>\n",
       "      <td>0.499470</td>\n",
       "    </tr>\n",
       "    <tr>\n",
       "      <th>2</th>\n",
       "      <td>100000276</td>\n",
       "      <td>0.956225</td>\n",
       "    </tr>\n",
       "    <tr>\n",
       "      <th>3</th>\n",
       "      <td>100000282</td>\n",
       "      <td>0.202989</td>\n",
       "    </tr>\n",
       "    <tr>\n",
       "      <th>4</th>\n",
       "      <td>100000293</td>\n",
       "      <td>0.368983</td>\n",
       "    </tr>\n",
       "  </tbody>\n",
       "</table>\n",
       "</div>"
      ],
      "text/plain": [
       "   patient_id  prediction\n",
       "0   100000005    0.112128\n",
       "1   100000083    0.499470\n",
       "2   100000276    0.956225\n",
       "3   100000282    0.202989\n",
       "4   100000293    0.368983"
      ]
     },
     "execution_count": 40,
     "metadata": {},
     "output_type": "execute_result"
    }
   ],
   "source": [
    "pred_df.head()"
   ]
  },
  {
   "cell_type": "markdown",
   "metadata": {},
   "source": [
    "## Make a submission"
   ]
  },
  {
   "cell_type": "code",
   "execution_count": 41,
   "metadata": {
    "collapsed": false
   },
   "outputs": [],
   "source": [
    "#import the submission file\n",
    "subm = pd.read_csv('../data/sample_submission.csv')\n",
    "subm['predict_screener'] = 0"
   ]
  },
  {
   "cell_type": "code",
   "execution_count": 42,
   "metadata": {
    "collapsed": false
   },
   "outputs": [
    {
     "data": {
      "text/html": [
       "<div>\n",
       "<table border=\"1\" class=\"dataframe\">\n",
       "  <thead>\n",
       "    <tr style=\"text-align: right;\">\n",
       "      <th></th>\n",
       "      <th>patient_id</th>\n",
       "      <th>predict_screener</th>\n",
       "    </tr>\n",
       "  </thead>\n",
       "  <tbody>\n",
       "    <tr>\n",
       "      <th>0</th>\n",
       "      <td>148341312</td>\n",
       "      <td>0</td>\n",
       "    </tr>\n",
       "    <tr>\n",
       "      <th>1</th>\n",
       "      <td>130010912</td>\n",
       "      <td>0</td>\n",
       "    </tr>\n",
       "    <tr>\n",
       "      <th>2</th>\n",
       "      <td>124284812</td>\n",
       "      <td>0</td>\n",
       "    </tr>\n",
       "    <tr>\n",
       "      <th>3</th>\n",
       "      <td>103994412</td>\n",
       "      <td>0</td>\n",
       "    </tr>\n",
       "    <tr>\n",
       "      <th>4</th>\n",
       "      <td>93332512</td>\n",
       "      <td>0</td>\n",
       "    </tr>\n",
       "  </tbody>\n",
       "</table>\n",
       "</div>"
      ],
      "text/plain": [
       "   patient_id  predict_screener\n",
       "0   148341312                 0\n",
       "1   130010912                 0\n",
       "2   124284812                 0\n",
       "3   103994412                 0\n",
       "4    93332512                 0"
      ]
     },
     "execution_count": 42,
     "metadata": {},
     "output_type": "execute_result"
    }
   ],
   "source": [
    "subm.head()"
   ]
  },
  {
   "cell_type": "code",
   "execution_count": 43,
   "metadata": {
    "collapsed": false
   },
   "outputs": [],
   "source": [
    "subm = pd.merge(subm, pred_df,on=['patient_id'],how='left')"
   ]
  },
  {
   "cell_type": "code",
   "execution_count": 44,
   "metadata": {
    "collapsed": false
   },
   "outputs": [],
   "source": [
    "subm.prediction.fillna(0,inplace=True)"
   ]
  },
  {
   "cell_type": "code",
   "execution_count": 45,
   "metadata": {
    "collapsed": false
   },
   "outputs": [],
   "source": [
    "subm['predict_screener'] = subm['predict_screener'] + subm['prediction']"
   ]
  },
  {
   "cell_type": "code",
   "execution_count": 46,
   "metadata": {
    "collapsed": false
   },
   "outputs": [],
   "source": [
    "subm.drop(['prediction'],axis=1,inplace=True)"
   ]
  },
  {
   "cell_type": "code",
   "execution_count": 47,
   "metadata": {
    "collapsed": false
   },
   "outputs": [],
   "source": [
    "subm.to_csv('../submissions/mysubmission.csv',index=False)"
   ]
  },
  {
   "cell_type": "code",
   "execution_count": 48,
   "metadata": {
    "collapsed": false
   },
   "outputs": [
    {
     "data": {
      "text/plain": [
       "(2169045, 2)"
      ]
     },
     "execution_count": 48,
     "metadata": {},
     "output_type": "execute_result"
    }
   ],
   "source": [
    "subm.shape"
   ]
  },
  {
   "cell_type": "code",
   "execution_count": 49,
   "metadata": {
    "collapsed": false
   },
   "outputs": [],
   "source": [
    "#zip\n",
    "!gzip ../submissions/mysubmission.csv"
   ]
  }
 ],
 "metadata": {
  "kernelspec": {
   "display_name": "Python 2",
   "language": "python",
   "name": "python2"
  },
  "language_info": {
   "codemirror_mode": {
    "name": "ipython",
    "version": 2
   },
   "file_extension": ".py",
   "mimetype": "text/x-python",
   "name": "python",
   "nbconvert_exporter": "python",
   "pygments_lexer": "ipython2",
   "version": "2.7.11"
  }
 },
 "nbformat": 4,
 "nbformat_minor": 0
}
